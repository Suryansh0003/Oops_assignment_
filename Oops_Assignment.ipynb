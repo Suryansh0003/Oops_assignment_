{
 "cells": [
  {
   "cell_type": "markdown",
   "id": "ebb29684-a8c0-4a86-9a0d-3323755920da",
   "metadata": {},
   "source": [
    "# OOPS ASSIGNMENT -\n"
   ]
  },
  {
   "cell_type": "markdown",
   "id": "6b929ea5-606d-4fbe-8688-ac6a902575c0",
   "metadata": {},
   "source": [
    "**What is importance of function**\n",
    "\n",
    "**ANS-1  They allow programmers to ensapculate code into reusable block that can be called from others part of program. this makes code more modular easier to read and mainatin.Functions can also  help to improve the performance of a program by avoiding the duplicate code.**\n",
    "\n",
    "**       **\n",
    "\n"
   ]
  },
  {
   "cell_type": "markdown",
   "id": "c4315d41-f335-4772-aad2-2c0135ee6fc9",
   "metadata": {},
   "source": [
    "**ANS-2 Basic function to greet students.**\n",
    "\n"
   ]
  },
  {
   "cell_type": "code",
   "execution_count": 19,
   "id": "0d714b88-b603-4ea2-9576-ab7e6c6d03ba",
   "metadata": {},
   "outputs": [
    {
     "name": "stdout",
     "output_type": "stream",
     "text": [
      "Hello,Students...\n"
     ]
    }
   ],
   "source": [
    "def Greet():\n",
    "    print(\"Hello,Students...\")\n",
    "\n",
    "    \n",
    "    \n",
    "    \n",
    "\n",
    "Greet()"
   ]
  },
  {
   "cell_type": "markdown",
   "id": "fe241c66-b363-47a6-95b6-0b61edf67add",
   "metadata": {},
   "source": [
    "\n",
    "**                                         **\n",
    "\n",
    "**Q-3  difference between return and print() statement in function**\n",
    "\n",
    "**ANS- return is used to give a value back to the caller while print() is display information to the console.**\n",
    "\n",
    "**    **"
   ]
  },
  {
   "cell_type": "markdown",
   "id": "4531618e-3c4d-4e75-8fbf-20fa2420b925",
   "metadata": {},
   "source": [
    "__Ans- 4*args and **kwargs in python.__\n",
    "\n",
    "*args   -   it is a way to accept any number of unnamed arguments in a function by packing them into a tuple\n",
    "\n",
    "**kwargs -   it's a way to accepy any number of named arguments in a funcion by packing them into a dictionary\n",
    "\n",
    "__Here the example of *args **kwargs -:__\n",
    "\n",
    "\n"
   ]
  },
  {
   "cell_type": "code",
   "execution_count": 65,
   "id": "b4eb87aa-a894-41a9-a6c8-76239816a8b9",
   "metadata": {},
   "outputs": [
    {
     "name": "stdout",
     "output_type": "stream",
     "text": [
      "(4, 5, 6, 7, 32, 54)\n",
      "\n",
      "\n",
      "id = 54 | name = Suryansh | Age = 21 | "
     ]
    }
   ],
   "source": [
    "class Arguments:\n",
    "    def Using_args(self,*args):\n",
    "        for arg in args:\n",
    "            print(arg)\n",
    "\n",
    "    def Using_kwargs(self,**kwargs):\n",
    "        for key,value in kwargs.items():\n",
    "            print(key,\"=\",value,end=\" | \")\n",
    "\n",
    "\n",
    "call=Arguments()\n",
    "call.Using_args((4,5,6,7,32,54))\n",
    "print(\"\\n\")\n",
    "call.Using_kwargs(id=54,name=\"Suryansh\",Age=21)\n",
    "            \n",
    "        \n",
    "        \n",
    "\n",
    "    \n",
    "\n"
   ]
  },
  {
   "cell_type": "markdown",
   "id": "ead0cdfe-85a7-44f7-92cd-208b74fd7805",
   "metadata": {},
   "source": [
    "__  __"
   ]
  },
  {
   "cell_type": "markdown",
   "id": "fe8e28e7-704b-4942-a4f6-fb95b502b13a",
   "metadata": {},
   "source": [
    "__Q-5 what is iter() function.__\n",
    "\n",
    "_ANS- iter() function in python is used to turn an iterrable object into an iterator._\n",
    "\n",
    "_An 'iterator' is anything you can loop over like lists ,string ,dictionaries,and more example ,wehn you write a 'for' loop to iterate over a list using iterable._\n",
    "\n",
    "_An 'iterator is a special ovject that allows you to access elements of an iterable one ast a time. it keeps track of the current state and knows how to get the next element when asked._\n",
    "\n",
    "_When you call 'iter' on an iterable , it returns an iterator object. this iterator can then be used to retrive the elementss form the original iterable on by one using the 'next()' function_\n",
    "\n",
    "__  __"
   ]
  },
  {
   "cell_type": "markdown",
   "id": "ad347201-6264-40fb-b74a-b085837e3163",
   "metadata": {},
   "source": [
    "__Q-6 Square n numbers using generator__\n"
   ]
  },
  {
   "cell_type": "code",
   "execution_count": 11,
   "id": "b66d41e5-40a3-4cb5-935b-77727111aae3",
   "metadata": {},
   "outputs": [
    {
     "data": {
      "text/plain": [
       "1"
      ]
     },
     "execution_count": 11,
     "metadata": {},
     "output_type": "execute_result"
    }
   ],
   "source": [
    "##Ans- \n",
    "def SqNumbers(n):\n",
    "    num=1\n",
    "    while num<=n:\n",
    "        yield num*num\n",
    "        num+=1\n",
    "\n",
    "n=10\n",
    "result=SqNumbers(n)\n",
    "##using next\n",
    "next(result)\n",
    "\n",
    "    "
   ]
  },
  {
   "cell_type": "code",
   "execution_count": 7,
   "id": "c0c27b1f-9ab4-4db4-b667-8d4203c5599e",
   "metadata": {},
   "outputs": [
    {
     "data": {
      "text/plain": [
       "4"
      ]
     },
     "execution_count": 7,
     "metadata": {},
     "output_type": "execute_result"
    }
   ],
   "source": [
    "next(result)"
   ]
  },
  {
   "cell_type": "code",
   "execution_count": 8,
   "id": "1ac37253-1fed-46ff-acd9-37882bcc561d",
   "metadata": {},
   "outputs": [
    {
     "data": {
      "text/plain": [
       "9"
      ]
     },
     "execution_count": 8,
     "metadata": {},
     "output_type": "execute_result"
    }
   ],
   "source": [
    "next(result)"
   ]
  },
  {
   "cell_type": "code",
   "execution_count": 9,
   "id": "c44e149e-5cc9-4ecd-82c6-76f130366245",
   "metadata": {},
   "outputs": [
    {
     "data": {
      "text/plain": [
       "16"
      ]
     },
     "execution_count": 9,
     "metadata": {},
     "output_type": "execute_result"
    }
   ],
   "source": [
    "next(result)"
   ]
  },
  {
   "cell_type": "code",
   "execution_count": 12,
   "id": "b1adc00b-7b93-48f6-942c-fb0663f4f3af",
   "metadata": {},
   "outputs": [
    {
     "name": "stdout",
     "output_type": "stream",
     "text": [
      "4 9 16 25 36 49 64 81 100 "
     ]
    }
   ],
   "source": [
    "## also  use loop\n",
    "for i in result :\n",
    "    print(i,end=\" \")"
   ]
  },
  {
   "cell_type": "markdown",
   "id": "eae4d89c-4eed-4845-9c7a-991eb093cfbc",
   "metadata": {},
   "source": [
    "__ __"
   ]
  },
  {
   "cell_type": "markdown",
   "id": "f4abe261-2b5b-473b-a378-f9fd1c21b462",
   "metadata": {},
   "source": [
    "__Q-7 Palandromic numbers using genrator__"
   ]
  },
  {
   "cell_type": "code",
   "execution_count": 18,
   "id": "b58b6ca2-0a70-40bf-ab64-185fbfb35b0f",
   "metadata": {},
   "outputs": [
    {
     "name": "stdout",
     "output_type": "stream",
     "text": [
      "1 2 3 4 5 6 7 8 9 11 22 33 44 55 66 77 88 99 "
     ]
    }
   ],
   "source": [
    "##Ans-Palandromic numbers \n",
    "def Palandrome(n):\n",
    "    for i in range(1,n+1):\n",
    "        if str(i)==str(i)[i::-1]:\n",
    "            yield i \n",
    "\n",
    "\n",
    "n=100\n",
    "PalanResult=Palandrome(n)\n",
    "for i in PalanResult:\n",
    "    print(i,end=\" \")\n"
   ]
  },
  {
   "cell_type": "markdown",
   "id": "e3c32d61-e1ce-42c1-a239-3aaeef9efec4",
   "metadata": {},
   "source": [
    "__Q-8 generate even num with genarotor__"
   ]
  },
  {
   "cell_type": "code",
   "execution_count": 47,
   "id": "1e0dc2e9-a8ec-4f53-96dd-19081d5d6a34",
   "metadata": {},
   "outputs": [
    {
     "name": "stdout",
     "output_type": "stream",
     "text": [
      "True\n",
      "4\n",
      "True\n",
      "6\n",
      "True\n",
      "8\n",
      "True\n",
      "10\n",
      "True\n",
      "12\n"
     ]
    }
   ],
   "source": [
    "##Ans-\n",
    "def even_gen(n):\n",
    "    num=2\n",
    "    while num<=n:\n",
    "        yield num %2==0\n",
    "        num+=2\n",
    "        yield num\n",
    "n=10\n",
    "result=even_gen(n)\n",
    "while True:\n",
    "    try:\n",
    "        print(next(result))\n",
    "    except StopIteration:\n",
    "        break"
   ]
  },
  {
   "cell_type": "markdown",
   "id": "0e7c9a0a-043d-4d6f-8426-dafe2d2470d0",
   "metadata": {},
   "source": [
    "__ __"
   ]
  },
  {
   "cell_type": "markdown",
   "id": "2fd116a6-fba7-40ed-9619-3a27a7cc4da6",
   "metadata": {},
   "source": [
    "__Q-9 Gen powers with genFunciton__"
   ]
  },
  {
   "cell_type": "code",
   "execution_count": 1,
   "id": "5bd47e52-aa3f-4523-b241-68e3528281e4",
   "metadata": {},
   "outputs": [
    {
     "name": "stdout",
     "output_type": "stream",
     "text": [
      "1\n",
      "2\n",
      "4\n",
      "8\n",
      "16\n"
     ]
    }
   ],
   "source": [
    "def Power_of_two(n):\n",
    "    num=1\n",
    "    while num<=n:\n",
    "        yield num\n",
    "        num*=2\n",
    "n=16\n",
    "for val in Power_of_two(n):\n",
    "    print(val)\n",
    "\n",
    "        "
   ]
  },
  {
   "cell_type": "markdown",
   "id": "80dde6e1-9072-46b4-8320-78c01e6084ac",
   "metadata": {},
   "source": [
    "__ __ \n"
   ]
  },
  {
   "cell_type": "markdown",
   "id": "b7d3c374-0409-46bf-ac94-a3d95eff4f29",
   "metadata": {},
   "source": [
    "__Q-10 prime nubmer using genrator__"
   ]
  },
  {
   "cell_type": "code",
   "execution_count": 20,
   "id": "bfd18da6-eeb0-4cec-bda3-9c538a719ba6",
   "metadata": {},
   "outputs": [
    {
     "name": "stdout",
     "output_type": "stream",
     "text": [
      "Prime Numbers:\n",
      "2 3 5 7 11 13 17 19 23 29 31 37 41 43 47 53 59 61 67 71 73 79 83 89 97 "
     ]
    }
   ],
   "source": [
    "##ANS-\n",
    "def IsPrime_Numbers(n):\n",
    "    if n<=1:\n",
    "        return False\n",
    "\n",
    "    for i in range(2,int(n**0.5)+1):\n",
    "        if n%i==0:\n",
    "            return False\n",
    "    return True\n",
    "\n",
    "def PrimeNum(n):\n",
    "    for i in range(2,n+1):\n",
    "        if IsPrime_Numbers(i):\n",
    "            yield i \n",
    "\n",
    "result=PrimeNum(100)\n",
    "print(\"Prime Numbers:\")\n",
    "for num in result:\n",
    "    print(num,end=\" \")"
   ]
  },
  {
   "cell_type": "markdown",
   "id": "f0dc0e28-247f-417f-8bc3-cec36857d9e8",
   "metadata": {},
   "source": [
    "__ __ "
   ]
  },
  {
   "cell_type": "markdown",
   "id": "f337e7c6-f5a7-42bf-acc1-b52d961deea1",
   "metadata": {},
   "source": [
    "__Q-11 Lambda function to sum numbers__"
   ]
  },
  {
   "cell_type": "code",
   "execution_count": 41,
   "id": "baf530be-2c5b-4088-a76a-c998f9c6405b",
   "metadata": {},
   "outputs": [
    {
     "data": {
      "text/plain": [
       "7"
      ]
     },
     "execution_count": 41,
     "metadata": {},
     "output_type": "execute_result"
    }
   ],
   "source": [
    "# Ans-\n",
    "a=lambda x,y: x+5\n",
    "a(2,3)\n",
    "# also use >> b=lambda *args : sum(args)   \n",
    "#b(2,3,4,5)\n"
   ]
  },
  {
   "cell_type": "markdown",
   "id": "b4d12f0a-bceb-4581-ba2d-a22beb527817",
   "metadata": {},
   "source": [
    "__ __"
   ]
  },
  {
   "cell_type": "markdown",
   "id": "26d91d3f-78b6-4a97-9d28-ebed3551c21c",
   "metadata": {},
   "source": [
    "__Q-12 Use lambda to square numbers.__"
   ]
  },
  {
   "cell_type": "code",
   "execution_count": 47,
   "id": "b76ec3ff-36cb-4b22-9f68-948f8f942ef0",
   "metadata": {},
   "outputs": [
    {
     "data": {
      "text/plain": [
       "16"
      ]
     },
     "execution_count": 47,
     "metadata": {},
     "output_type": "execute_result"
    }
   ],
   "source": [
    "# Ans-\n",
    "a=lambda x: x*x\n",
    "a(4)"
   ]
  },
  {
   "cell_type": "markdown",
   "id": "dd54e26e-044c-4b83-80df-5405e59dd800",
   "metadata": {},
   "source": [
    "__ __"
   ]
  },
  {
   "cell_type": "markdown",
   "id": "f291b5b6-a3e4-4ef2-84a9-a0035c262324",
   "metadata": {},
   "source": [
    "__Q-13 Use lambda function to check given num even or not__"
   ]
  },
  {
   "cell_type": "code",
   "execution_count": 70,
   "id": "d435a937-6a6c-4afc-9cfc-97d99054dc7a",
   "metadata": {},
   "outputs": [
    {
     "name": "stdout",
     "output_type": "stream",
     "text": [
      "True\n",
      "False\n"
     ]
    }
   ],
   "source": [
    "# Ans-\n",
    "# Generate a list of the first 10 even numbers using lambda function\n",
    "eve=lambda x:x%2==0\n",
    "print(eve(6))\n",
    "print(eve(7))"
   ]
  },
  {
   "cell_type": "markdown",
   "id": "260ba4d7-cefa-4c2a-88e8-9b149f8dbf4e",
   "metadata": {},
   "source": [
    "__ __"
   ]
  },
  {
   "cell_type": "markdown",
   "id": "e52b75de-e76d-4d48-8e81-2ee2e7684d65",
   "metadata": {},
   "source": [
    "__Q-15 concatenate string using lambda__ "
   ]
  },
  {
   "cell_type": "code",
   "execution_count": 84,
   "id": "5b26702f-57e7-4afc-bd30-f0c10042050f",
   "metadata": {},
   "outputs": [
    {
     "data": {
      "text/plain": [
       "'PwSkills'"
      ]
     },
     "execution_count": 84,
     "metadata": {},
     "output_type": "execute_result"
    }
   ],
   "source": [
    "# Ans-\n",
    "str1=\"Pw\"\n",
    "str2=\"Skills\"\n",
    "result=lambda x,y: x+y\n",
    "result(str1,str2)"
   ]
  },
  {
   "cell_type": "markdown",
   "id": "bbe96b76-c8c1-4996-ae7c-e5c3ccf4c2f3",
   "metadata": {},
   "source": [
    "__ __"
   ]
  },
  {
   "cell_type": "markdown",
   "id": "b06d56d1-2a88-4d54-97a3-41b57af4a1c4",
   "metadata": {},
   "source": [
    "__Q-16 find max number using lambda__"
   ]
  },
  {
   "cell_type": "code",
   "execution_count": 87,
   "id": "873be9b9-ddab-4a2e-a54f-9e2ef461895d",
   "metadata": {},
   "outputs": [
    {
     "data": {
      "text/plain": [
       "32"
      ]
     },
     "execution_count": 87,
     "metadata": {},
     "output_type": "execute_result"
    }
   ],
   "source": [
    "#ANS-\n",
    "maxN=lambda *args : max(args)\n",
    "maxN(2,3,4,2,12,13,32,7)"
   ]
  },
  {
   "cell_type": "markdown",
   "id": "e9415e82-921d-4336-9656-0a31de9e0f72",
   "metadata": {},
   "source": [
    "__ __"
   ]
  },
  {
   "cell_type": "markdown",
   "id": "42632f23-db45-4caa-847e-98eff3ad7e19",
   "metadata": {},
   "source": [
    "__Q-17 code to squares of even number in give list__"
   ]
  },
  {
   "cell_type": "code",
   "execution_count": 125,
   "id": "7ecb57b3-8b09-4e7e-8f7f-ab4d10799bb8",
   "metadata": {},
   "outputs": [
    {
     "name": "stdout",
     "output_type": "stream",
     "text": [
      "before square even number: 2\n",
      "After square even number: 4\n",
      "before square even number: 4\n",
      "After square even number: 16\n",
      "before square even number: 6\n",
      "After square even number: 36\n"
     ]
    }
   ],
   "source": [
    "##Ans-\n",
    "def even_square(n):\n",
    "    lis=[]\n",
    "    for i in n:\n",
    "        if i %2==0:\n",
    "            lis.append((i,i**2))\n",
    "    \n",
    "    return lis\n",
    "             \n",
    "\n",
    "res=even_square([1,2,3,4,5,6,7])\n",
    "for num,sq in res:\n",
    "    print(\"before square even number:\",num)\n",
    "    print(\"After square even number:\",sq)"
   ]
  },
  {
   "cell_type": "markdown",
   "id": "6879c8ce-6977-4921-a8b5-48952ccae9c1",
   "metadata": {},
   "source": [
    "__ __"
   ]
  },
  {
   "cell_type": "markdown",
   "id": "f8d7a099-09d0-406b-a2b4-25b373786668",
   "metadata": {},
   "source": [
    "__Q-18 Product of positive numbers__"
   ]
  },
  {
   "cell_type": "code",
   "execution_count": 139,
   "id": "34c795ea-7bda-42e5-813e-8178e078d825",
   "metadata": {},
   "outputs": [
    {
     "data": {
      "text/plain": [
       "720"
      ]
     },
     "execution_count": 139,
     "metadata": {},
     "output_type": "execute_result"
    }
   ],
   "source": [
    "##Ans-\n",
    "from functools import reduce\n",
    "\n",
    "def Positive_Product(n):\n",
    "    return reduce (lambda x,y:x*y,filter (lambda x:x>0,n),1)\n",
    "\n",
    "result=Positive_Product([2,3,4,5,6,-5,-3,-7])\n",
    "result"
   ]
  },
  {
   "cell_type": "markdown",
   "id": "8b19456e-b18f-4ff1-96f7-21879082148d",
   "metadata": {},
   "source": [
    "__ __"
   ]
  },
  {
   "cell_type": "markdown",
   "id": "f21810b7-9700-4385-8c0c-bd3d6ab19a3c",
   "metadata": {},
   "source": [
    "__Q-19 Doubles the positive numbers__"
   ]
  },
  {
   "cell_type": "code",
   "execution_count": 159,
   "id": "cdb23ffb-e058-406d-9d96-6050926218c5",
   "metadata": {},
   "outputs": [
    {
     "name": "stdout",
     "output_type": "stream",
     "text": [
      "[4, 9, 16, 25]\n"
     ]
    }
   ],
   "source": [
    "# Ans-\n",
    "def doublePos(*n):\n",
    "    lis=[]\n",
    "    for num in n:\n",
    "        if num>0:\n",
    "            lis.append(num**2)\n",
    "    return lis\n",
    "nums=[2,3,4,5,6-7,-8]\n",
    "print(doublePos(*nums))"
   ]
  },
  {
   "cell_type": "markdown",
   "id": "a2a35585-9c0b-4c02-a9f8-908a359406cb",
   "metadata": {},
   "source": [
    "__ __"
   ]
  },
  {
   "cell_type": "markdown",
   "id": "adfa56a6-6094-48d6-8496-f7747bd50837",
   "metadata": {},
   "source": [
    "__Q-20 Sum of qubes__"
   ]
  },
  {
   "cell_type": "code",
   "execution_count": 180,
   "id": "81d7f9e5-5776-4858-bd81-54e418df6e54",
   "metadata": {},
   "outputs": [
    {
     "data": {
      "text/plain": [
       "217"
      ]
     },
     "execution_count": 180,
     "metadata": {},
     "output_type": "execute_result"
    }
   ],
   "source": [
    "#Ans-\n",
    "def cube_sum(*args):\n",
    "    res= [nums**3 for nums in args]\n",
    "    return sum(res)\n",
    "\n",
    "cubesum=cube_sum(1,3,4,5)\n",
    "cubesum"
   ]
  },
  {
   "cell_type": "markdown",
   "id": "9969e1de-bc2c-4455-a8df-ede45897c7b1",
   "metadata": {},
   "source": [
    "__ __"
   ]
  },
  {
   "cell_type": "markdown",
   "id": "25e0fd82-3538-46cc-9929-573b6a97963a",
   "metadata": {},
   "source": [
    "__Q-21 Filter prime numbers__"
   ]
  },
  {
   "cell_type": "code",
   "execution_count": 2,
   "id": "f176df7f-dfd5-42b0-87bf-f4f898a8d4fe",
   "metadata": {},
   "outputs": [
    {
     "name": "stdout",
     "output_type": "stream",
     "text": [
      "[1, 2, 3, 5, 7]\n"
     ]
    }
   ],
   "source": [
    "# Ans-\n",
    "def Filter_prime(x):\n",
    " \n",
    "    prime=lambda x: x>0 and all(x % i !=0 for i in range(2,int(x**0.5)+1))\n",
    "    p=list(filter(prime,x))\n",
    "    return p\n",
    "\n",
    "n=[1,2,3,4,5,6,7,8,9,10]\n",
    "result=Filter_prime(n)\n",
    "print(result)\n"
   ]
  },
  {
   "cell_type": "markdown",
   "id": "e6470f31-b201-4b81-8680-0ba32a410efd",
   "metadata": {},
   "source": [
    "__ __"
   ]
  },
  {
   "cell_type": "markdown",
   "id": "e01eabaf-2550-4862-af75-302aa357331f",
   "metadata": {},
   "source": [
    "__Q-22 Encapsulation in Python__\n",
    "\n",
    "_Ans- Encapsulation in Python is a tachnique for combininig data and function into a single object.A class ,for instance contains all the data(methods and variables ).helps in hiding the internal state of an object from the outside world while providing controlled access to it through methods._"
   ]
  },
  {
   "cell_type": "markdown",
   "id": "56711acc-a3d4-463d-88b4-ef482ac7781b",
   "metadata": {},
   "source": [
    "__ __"
   ]
  },
  {
   "cell_type": "markdown",
   "id": "ca010b89-4cb6-4788-ad8f-70c1bf38b2e8",
   "metadata": {},
   "source": [
    "__Q-23 Explain the use of access modifiers in Python classes.__"
   ]
  },
  {
   "cell_type": "markdown",
   "id": "747c0954-03f1-455b-b5d3-ca3b8d09245b",
   "metadata": {},
   "source": [
    "_Ans- Access modifiers in Python classes are keywords that define the accessibility of class members (attributes and methods) from outside the class._\n",
    "##### Commonly used modifirs in python are-\n",
    "_1-Public- members are accessable from outside the class or anywhere_\n",
    "\n",
    "_2-private - members are accesable only within the class itself we can diclare private variable with (__) double underscore in_ prefix_eg(__Myvar) and if we want to show the private var or want to chage the value we use getter setter method to show and set value_\n",
    "\n",
    "3-protected members are accesable only class or subclass we can declare var with (_) single underscore in prefix eg(_var)_"
   ]
  },
  {
   "cell_type": "markdown",
   "id": "5d388a97-ac25-4c15-bbfc-356835873092",
   "metadata": {},
   "source": [
    "__ __\n"
   ]
  },
  {
   "cell_type": "markdown",
   "id": "4b5cc3bb-90c0-4543-9613-ac102cf1bea8",
   "metadata": {},
   "source": [
    "__Q-24 Inheritance in python__\n",
    "\n",
    "_Ans-Inheritance in Python is a way for one class to acquire the attributes and methods of another class, enabling code reuse and allowing the creation of new classes with modified or extended functionality based on existing ones._\n",
    "\n",
    "_Parent Class (Superclass): This is the class that is being inherited from. It contains attributes and methods that can be reused by_ _otherclasses._\n",
    "_Child Class (Subclass): This is the class that inherits from the parent class. It can access and use the attributes and methods of the parent class, and it can also define its own attributes and methods._\n",
    "_Syntax: In Python, inheritance is achieved by placing the name of the parent class in parentheses after the name of the child class._\n",
    "\n",
    "__Types of Inheritance:__\n",
    "\n",
    "_1-Single Inheritance: When a child class inherits from only one parent class._\n",
    "\n",
    "_2-Multiple Inheritance: When a child class inherits from more than one parent class._\n",
    "\n",
    "_3-Multilevel Inheritance: When a child class inherits from a parent class, and another class inherits from this child class._\n",
    "\n",
    "_4-Hierarchical Inheritance: When multiple child classes inherit from the same parent class._\n",
    "\n",
    "_5-Hybrid Inheritance: A combination of different types of inheritance._"
   ]
  },
  {
   "cell_type": "markdown",
   "id": "bebdca91-4b8d-42cd-913e-56db86875a41",
   "metadata": {},
   "source": [
    "__Q-25 Polymorphism in \n",
    "\n",
    "_Ans- Polymorphism is a programming concept that allows us to use the same code with different types of data. In Python, polymorphism is achieved through method overriding, which allows us to define methods in a child class that have the same name as methods in the parent class. When we call a method on an object, Python will look for the method in the object's class, and if it finds it, it will call that method. If Python doesn't find the method in the object's class, it will look for the method in the object's parent class_\n",
    "\n",
    "__ __"
   ]
  },
  {
   "cell_type": "markdown",
   "id": "8ee5d32d-20bd-4911-a4f1-f8c7ac4edb03",
   "metadata": {},
   "source": [
    "__Q-26 Method overriding in python__\n",
    "\n",
    "_Ans- Method overriding occurs when a subclass provides a new implementation for a method that is already defined in its superclass. This allows the subclass to inherit the methods and fields of the superclass while still being able to modify or extend the behavior of specific methods._\n",
    "\n",
    "__Example-__"
   ]
  },
  {
   "cell_type": "code",
   "execution_count": 14,
   "id": "b1c7b27c-58c1-441a-b11c-3d174a60e16a",
   "metadata": {},
   "outputs": [
    {
     "name": "stdout",
     "output_type": "stream",
     "text": [
      "no sond this time owl is sleeping lol!\n",
      "bhao bhao \n"
     ]
    }
   ],
   "source": [
    "## method overriding eg\n",
    "class animal:\n",
    "    def make_sound():\n",
    "        pass\n",
    "\n",
    "class dog(animal):\n",
    "    def make_sound(self):\n",
    "        return \"bhao bhao \"\n",
    "\n",
    "class owl(animal):\n",
    "    def make_sound(self):\n",
    "        return \"no sond this time owl is sleeping lol!\"\n",
    "class cat(animal):\n",
    "    def make_sound(self):\n",
    "        return \"meow\"\n",
    "\n",
    "owl=owl()\n",
    "dog=dog()\n",
    "print(owl.make_sound())\n",
    "print(dog.make_sound())"
   ]
  },
  {
   "cell_type": "markdown",
   "id": "dbf73b88-c268-48d3-a1ea-c88dfac527ba",
   "metadata": {},
   "source": [
    "__ __"
   ]
  },
  {
   "cell_type": "markdown",
   "id": "138ae118-70b9-4dd0-856c-3254860ff1ec",
   "metadata": {},
   "source": [
    "__Q-27 Define a parent class Animal with a method make _ sound that prints \"Generic animal sound\". Create a\n",
    "child class Doa inheritina from Animal with a method make sound that prints \"Woof!\".__"
   ]
  },
  {
   "cell_type": "code",
   "execution_count": 17,
   "id": "afe7ce67-18a8-47fa-9f73-41700532cd85",
   "metadata": {},
   "outputs": [
    {
     "name": "stdout",
     "output_type": "stream",
     "text": [
      "Woof! \n"
     ]
    }
   ],
   "source": [
    "class animal:\n",
    "    def make_sound():\n",
    "        pass\n",
    "\n",
    "class dog(animal):\n",
    "    def make_sound(self):\n",
    "        return \"Woof! \"\n",
    "\n",
    "class cat(animal):\n",
    "    def make_sound(self):\n",
    "        return \"meao\"\n",
    "\n",
    "\n",
    "\n",
    "dog=dog()\n",
    "print(dog.make_sound())"
   ]
  },
  {
   "cell_type": "markdown",
   "id": "6e83afee-a02a-4149-8506-f13e667a9d50",
   "metadata": {},
   "source": [
    "__ __"
   ]
  },
  {
   "cell_type": "markdown",
   "id": "7ea949b5-f2b3-40f0-95a6-4db9f202a920",
   "metadata": {},
   "source": [
    "__Q-28 Define a method move in the Animal class that prints \"Animal moves\". Override the move method in the\n",
    "Dog class to print \"Dog runs.\"__"
   ]
  },
  {
   "cell_type": "code",
   "execution_count": 24,
   "id": "b4a1d858-5dd6-407e-9736-4f7d8581f19d",
   "metadata": {},
   "outputs": [
    {
     "name": "stdout",
     "output_type": "stream",
     "text": [
      "Dog runs\n"
     ]
    }
   ],
   "source": [
    "##Ans-\n",
    "class animal:\n",
    "    def Move():\n",
    "        pass\n",
    "class dog(animal):\n",
    "    def Move(self):\n",
    "        return \"Dog runs\"\n",
    "\n",
    "dog =dog()\n",
    "print(dog.Move())\n"
   ]
  },
  {
   "cell_type": "markdown",
   "id": "29cf37d5-c378-44c3-8da6-7636492f00b1",
   "metadata": {},
   "source": [
    "__ __ "
   ]
  },
  {
   "cell_type": "markdown",
   "id": "058591be-700c-4db1-9813-d387233f24a1",
   "metadata": {},
   "source": [
    "__Q-29 Create a class Mammal with a method reproduce that prints \"Giving birth to live young.\" Create a class\n",
    "DogMammaI inheriting from both Dog and Mammal.__"
   ]
  },
  {
   "cell_type": "code",
   "execution_count": 1,
   "id": "06a6d251-48bf-40e2-ac56-3dc38f27c892",
   "metadata": {},
   "outputs": [
    {
     "data": {
      "text/plain": [
       "'Giving birth to live young.'"
      ]
     },
     "execution_count": 1,
     "metadata": {},
     "output_type": "execute_result"
    }
   ],
   "source": [
    "# Ans-\n",
    "class Mammal:\n",
    "    def reproduce(self):\n",
    "        return \"Giving birth to live young.\"\n",
    "\n",
    "class DogMamal(Mammal):\n",
    "    pass\n",
    "\n",
    "DogMamal =DogMamal()\n",
    "DogMamal.reproduce()\n",
    "        \n",
    "\n"
   ]
  },
  {
   "cell_type": "markdown",
   "id": "5cf48978-6820-497a-9694-1260f4efc43d",
   "metadata": {},
   "source": [
    "__Q- 30Create a class GermanShepherd inheriting from Dog and override the make_sound method to print\n",
    "\"Bark!\"__"
   ]
  },
  {
   "cell_type": "code",
   "execution_count": 5,
   "id": "0a1e016c-ac72-4eb6-88ba-6364349ef00c",
   "metadata": {},
   "outputs": [
    {
     "name": "stdout",
     "output_type": "stream",
     "text": [
      "Bark...\n"
     ]
    }
   ],
   "source": [
    "class Dog:\n",
    "    def Make_Sound(self):\n",
    "        pass\n",
    "\n",
    "class German_Shepherd(Dog):\n",
    "    def Make_Sound(self):\n",
    "        print(\"Bark...\")\n",
    "    \n",
    "\n",
    "d=German_Shepherd()\n",
    "d.Make_Sound()"
   ]
  },
  {
   "cell_type": "markdown",
   "id": "f5dae6ef-33eb-4c2c-a906-29e38777032a",
   "metadata": {},
   "source": [
    "__Q-31Define constructors in both the Animal and Dog classes with different initialization parameters.__"
   ]
  },
  {
   "cell_type": "code",
   "execution_count": 18,
   "id": "808ed1c1-dfd3-454b-ac03-a8e64ca50b52",
   "metadata": {},
   "outputs": [
    {
     "name": "stdout",
     "output_type": "stream",
     "text": [
      "The age of dog is : 12 and my breed is :Great Dane\n",
      "The name of dog is :Raja and the age is :15\n"
     ]
    }
   ],
   "source": [
    "# Ans-\n",
    "class Animal:\n",
    "    def __init__(self,name,age):\n",
    "        self.name=name\n",
    "        self.age=age\n",
    "    def Display(self):\n",
    "        print(f\"The name of dog is :{self.name} and the age is :{self.age}\")\n",
    "\n",
    "class Dog(Animal):\n",
    "    def __init__(self, breed,age):\n",
    "        super().__init__(\"dog\",age)\n",
    "        self.breed=breed;\n",
    "    def Display(self):\n",
    "        print(f\"The age of dog is : {self.age} and my breed is :{self.breed}\")\n",
    "\n",
    "\n",
    "d =Dog(\"Great Dane\",12)\n",
    "d.Display()\n",
    "d1=Animal(\"Raja\",15)\n",
    "d1.Display()\n"
   ]
  },
  {
   "cell_type": "markdown",
   "id": "f369da28-fa8e-41fc-854a-4f8747fc8bb8",
   "metadata": {},
   "source": [
    "__Q-32   What is abstraction in Python? How is it implemented?__"
   ]
  },
  {
   "cell_type": "code",
   "execution_count": 36,
   "id": "49412cfc-0c74-479f-b78d-f0126aac62a3",
   "metadata": {},
   "outputs": [
    {
     "name": "stdout",
     "output_type": "stream",
     "text": [
      "Driving...\n",
      "Audi\n",
      "A8\n",
      "1932\n"
     ]
    }
   ],
   "source": [
    "# Ans-\n",
    "class Car:\n",
    "    def __init__(self,name,model,since):\n",
    "        self.name=name\n",
    "        self.model=model\n",
    "        self.since=since\n",
    "        self.__fuel_level=100\n",
    "\n",
    "    def drive(self):\n",
    "        if self.__fuel_level>0:\n",
    "            print(\"Driving...\")\n",
    "            self.__fuel_level-=10\n",
    "        else:\n",
    "             print(\"out of fuel..\")\n",
    "\n",
    "    def reFuel(self):\n",
    "        self.__fuel_level=100\n",
    "\n",
    "c=Car(\"Audi\",\"A8\",1932)\n",
    "c.drive()\n",
    "## we can not change the fueal value if we can do its shows error \n",
    "print(c.name)\n",
    "print(c.model)\n",
    "print(c.since)\n",
    "\n",
    "## if we do this its shows error  >>'Car' object has no attribute '__fuel_level'\n",
    "# print(c.__fuel_level)\n"
   ]
  },
  {
   "cell_type": "markdown",
   "id": "403b76ef-127f-464d-b193-38bc8bf20964",
   "metadata": {},
   "source": [
    "__ __\n",
    "__Q-33  Explain the importance of abstraction in object-oriented programming.__\n",
    "\n",
    "_Ans- Improves Code Readability and Maintainability: By hiding unnecessary details, abstraction keeps code clean and concise. This makes it easier for programmers, especially those working on large projects or collaborating with others, to understand the code's purpose and functionality. Cleaner code is also easier to maintain and modify in the future.\n",
    "\n",
    "3. Promotes Reusability:  Abstraction allows you to create reusable code components.  Imagine a general \"Vehicle\" class that defines core functionalities like acceleration and braking. Specific car classes can inherit from this general class and implement their unique details without rewriting common code. This saves time and effort, and ensures consistency across the codebase.\n",
    "\n",
    "4. Enhances Flexibility and Adaptability:  Since the internal workings of an object are hidden, changes can be made without affecting the way other parts of the program interact with it. This allows for greater flexibility and easier adaptation as program requirements evolve. If the implementation of the \"Vehicle\" class changes, for example, classes inheriting from it wouldn't necessarily need modifications._\n",
    "5. __ __"
   ]
  },
  {
   "cell_type": "markdown",
   "id": "72842abd-ab36-430e-ae6d-8273bd816a26",
   "metadata": {},
   "source": [
    "__Q-34 How are abstract methods different from regular methods in Python?__\n",
    "\n",
    "\n",
    "Ans- Regular methods: These methods contain the actual code that defines the behavior or action of the object. When you call a regular method, the defined code is executed.\n",
    "\n",
    "Abstract methods: These methods don't have an implementation within the class itself. They act like placeholders, outlining the method's name and parameters but leaving the specific functionality empty.\n",
    "\n",
    "_Purpose:_\n",
    "\n",
    "Regular methods: These methods provide concrete functionality that can be directly used by the class or its objects.\n",
    "Abstract methods: These methods define an interface or contract that subclasses (classes inheriting from the abstract class) must implement. They enforce a specific behavior that all subclasses must adhere to.\n",
    "Instantiation:\n",
    "\n",
    "Regular methods: Classes with regular methods can be directly instantiated to create objects.\n",
    "Abstract methods: Classes containing only abstract methods (abstract classes) cannot be directly instantiated. They serve as blueprints for subclasses that must provide implementations for the abstract methods before creating objects.\n",
    "__ __"
   ]
  },
  {
   "cell_type": "markdown",
   "id": "584f64eb-e194-4f58-a8ac-925c35066663",
   "metadata": {},
   "source": [
    "__Q-35  How can you achieve abstraction using interfaces in Python?__"
   ]
  },
  {
   "cell_type": "markdown",
   "id": "706876fb-7b58-4cdc-b4a5-1df638669e8b",
   "metadata": {},
   "source": [
    "Ans-  In Python, you can achieve abstraction using interfaces through the use of abstract base classes (ABCs) provided by the abc module. An interface defines a set of methods that a class must implement, without providing any implementation details itself.\n",
    "\n",
    "Using Abstract Base Classes (ABCs): Python's abc module provides the ABC class, which can be subclassed to create an interface. You can use the @abstractmethod decorator to define abstract methods within the interface. Any class that inherits from this interface must implement all the abstract methods.\n",
    "\n",
    "Implementing the Interface: Classes that implement the interface must provide concrete implementations for all the abstract methods defined in the interface. This ensures that the interface contract is fulfilled.\n",
    "__ __"
   ]
  },
  {
   "cell_type": "markdown",
   "id": "45c0251f-ce66-4871-b1ee-5d2ab00735af",
   "metadata": {},
   "source": [
    "__Q-36  Can you provide an example of how abstraction can be utilized to create a common interface for a groupof related classes in Python?__\n"
   ]
  },
  {
   "cell_type": "code",
   "execution_count": 1,
   "id": "c9978c34-ff44-4f80-8adf-02d819091b4f",
   "metadata": {},
   "outputs": [
    {
     "name": "stdout",
     "output_type": "stream",
     "text": [
      "Rectangle:\n",
      "Area: 20\n",
      "Perimeter: 18\n",
      "\n",
      "Circle:\n",
      "Area: 28.26\n",
      "Perimeter: 18.84\n"
     ]
    }
   ],
   "source": [
    "# Ans-\n",
    "from abc import ABC, abstractmethod\n",
    "\n",
    "# Define an abstract base class\n",
    "class Shape(ABC):\n",
    "    @abstractmethod\n",
    "    def area(self):\n",
    "        pass\n",
    "\n",
    "    @abstractmethod\n",
    "    def perimeter(self):\n",
    "        pass\n",
    "\n",
    "# Define concrete classes that inherit from the Shape class\n",
    "class Rectangle(Shape):\n",
    "    def __init__(self, width, height):\n",
    "        self.width = width\n",
    "        self.height = height\n",
    "\n",
    "    def area(self):\n",
    "        return self.width * self.height\n",
    "\n",
    "    def perimeter(self):\n",
    "        return 2 * (self.width + self.height)\n",
    "\n",
    "class Circle(Shape):\n",
    "    def __init__(self, radius):\n",
    "        self.radius = radius\n",
    "\n",
    "    def area(self):\n",
    "        return 3.14 * self.radius ** 2\n",
    "\n",
    "    def perimeter(self):\n",
    "        return 2 * 3.14 * self.radius\n",
    "\n",
    "# Now, let's use the common interface provided by the Shape class\n",
    "def print_shape_info(shape):\n",
    "    print(\"Area:\", shape.area())\n",
    "    print(\"Perimeter:\", shape.perimeter())\n",
    "\n",
    "# Create instances of concrete classes\n",
    "rectangle = Rectangle(5, 4)\n",
    "circle = Circle(3)\n",
    "\n",
    "# Call the function with instances of concrete classes\n",
    "print(\"Rectangle:\")\n",
    "print_shape_info(rectangle)\n",
    "\n",
    "print(\"\\nCircle:\")\n",
    "print_shape_info(circle)\n"
   ]
  },
  {
   "cell_type": "markdown",
   "id": "30b78d2b-3262-4f0e-8f24-e789b7b925b2",
   "metadata": {},
   "source": [
    "__ __\n",
    "__Q-37  How does Python achieve polymorphism through method overriding?__\n",
    "\n",
    "\n",
    "Ans-  In Python, polymorphism is achieved through method overriding, which allows subclasses to provide a specific implementation of a method that is already defined in one of its parent classes. This means that a method in a subclass has the same name and signature as a method in its superclass, but provides a different implementation. When the method is called on an object of the subclass, the overridden version of the method is invoked.\n",
    "\n",
    "__ __"
   ]
  },
  {
   "cell_type": "markdown",
   "id": "5ab94584-b9f3-42a5-a6d7-3bc44798778e",
   "metadata": {},
   "source": [
    "__Q-38  Define a base class with a method and a subclass that overrides the method.__"
   ]
  },
  {
   "cell_type": "code",
   "execution_count": 6,
   "id": "216a1be7-de7a-4406-b9d7-c02b575925bf",
   "metadata": {},
   "outputs": [
    {
     "name": "stdout",
     "output_type": "stream",
     "text": [
      "Animal makes a sound\n",
      "Woof!\n"
     ]
    }
   ],
   "source": [
    "# Ans\n",
    "class Animal:\n",
    "    def sound(self):\n",
    "        return \"Animal makes a sound\"\n",
    "\n",
    "class Dog(Animal):\n",
    "    def sound(self):\n",
    "        return \"Woof!\"\n",
    "\n",
    "\n",
    "# Create instances of different classes\n",
    "animal = Animal()\n",
    "dog = Dog()\n",
    "\n",
    "\n",
    "# Call the sound method on each object\n",
    "print(animal.sound())  # Output: Animal makes a sound\n",
    "print(dog.sound())     # Output: Woof!\n",
    "\n"
   ]
  },
  {
   "cell_type": "markdown",
   "id": "7061cf15-0d64-4862-981d-b715ca2627bb",
   "metadata": {},
   "source": [
    "__ __\n",
    "__Q-39  Define a base class and multiple subclasses with overridden methods.__"
   ]
  },
  {
   "cell_type": "code",
   "execution_count": 9,
   "id": "7fce62ee-fed4-4325-85f3-9d02a5b8e92c",
   "metadata": {},
   "outputs": [
    {
     "name": "stdout",
     "output_type": "stream",
     "text": [
      "This is banana\n",
      "this is apple \n"
     ]
    }
   ],
   "source": [
    "# Ans-\n",
    "\n",
    "class Fruit:\n",
    "    def fruitname(self):\n",
    "        pass\n",
    "\n",
    "class Banana(Fruit):\n",
    "    def fruitname(self):\n",
    "        print(\"This is banana\")\n",
    "\n",
    "class Apple(Fruit):\n",
    "    def fruitname(self):\n",
    "        print(\"this is apple \")\n",
    "\n",
    "B=Banana()\n",
    "A=Apple()\n",
    "B.fruitname()\n",
    "A.fruitname()"
   ]
  },
  {
   "cell_type": "markdown",
   "id": "8c0cbf7c-7ad3-486d-8814-f9a5f782a2b5",
   "metadata": {},
   "source": [
    "__ __\n",
    "__Q-40  How does polymorphism improve code readability and reusability?__\n",
    "\n",
    "Ans-Readability: Imagine you have a method that works with a generic type, like shape.calculate_area(). You don't need to know whether it's a square, triangle, or circle. You just know it calculates an area. This makes the code easier to understand because you're focusing on what it does, not how it does it.\n",
    "\n",
    "\n",
    "Reusability: Let's say you have a function that accepts any animal and makes them make a sound: make_sound(animal). You can pass a dog, a cat, or even a bird to it. You don't need to write separate functions for each animal; the same function works for all because of polymorphism.\n",
    "\n",
    "__ __"
   ]
  },
  {
   "cell_type": "markdown",
   "id": "765cad28-6cf3-4d5b-9e32-ef670d86d68b",
   "metadata": {},
   "source": [
    "__Q-41  Describe how Python supports polymorphism with duck typing.__\n",
    "\n",
    "\n",
    "Ans-\n",
    "\n",
    "\n",
    "In Python, duck typing means that if an object behaves like a duck (i.e., it has certain methods), then Python treats it like a duck, regardless of its actual type.\n",
    "\n",
    "For example, if you have a function that expects an object with a quack() method, you can pass in any object that has that method, even if it's not explicitly defined as a duck:"
   ]
  },
  {
   "cell_type": "code",
   "execution_count": 11,
   "id": "f351d429-d295-48ee-be39-b86d07701096",
   "metadata": {},
   "outputs": [
    {
     "name": "stdout",
     "output_type": "stream",
     "text": [
      "Quack!\n",
      "I can't quack, but I can mimic a duck!\n"
     ]
    }
   ],
   "source": [
    "# Ex\n",
    "class Duck:\n",
    "    def quack(self):\n",
    "        print(\"Quack!\")\n",
    "\n",
    "class Person:\n",
    "    def quack(self):\n",
    "        print(\"I can't quack, but I can mimic a duck!\")\n",
    "\n",
    "# Function that expects a quacking object\n",
    "def make_quack(sound_maker):\n",
    "    sound_maker.quack()\n",
    "\n",
    "duck = Duck()\n",
    "person = Person()\n",
    "\n",
    "make_quack(duck)    # Output: Quack!\n",
    "make_quack(person)  # Output: I can't quack, but I can mimic a duck!\n"
   ]
  },
  {
   "cell_type": "markdown",
   "id": "229820d3-5ecc-42f2-83f7-6178439d43e6",
   "metadata": {},
   "source": [
    "__ __\n",
    "\n",
    "__Q-42  How do you achieve encapsulation in Python?__\n",
    "\n",
    "Ans- Encapsulation in Python is achieved primarily through the use of classes and access\n",
    "modifiers. Here's how it works:\n",
    "1. Classes: Classes are used to define objects and encapsulate their data and\n",
    "behavior together. You can think of a class as a blueprint for creating objects. By\n",
    "defining methods within a class, you encapsulate the behavior of the object.\n",
    "\n",
    "3. Access Modifiers: In Python, there are no strict access modifiers like in some other\n",
    "languages (e.g., private, protected, public). However, you can achieve a similar effect\n",
    "using naming conventions and properties. By convention, attributes and methods that\n",
    "start with a single underscore C _ • ) are considered as \"protected\", meaning they\n",
    "should be accessed only within the class or by subclasses. Attributes and methods\n",
    "that start with double underscores C _ _ • ) are \"private\", meaning they should not be\n",
    "accessed from outside the class.\n"
   ]
  },
  {
   "cell_type": "code",
   "execution_count": 14,
   "id": "f9b1556d-7675-438d-b981-a342c634779b",
   "metadata": {},
   "outputs": [
    {
     "name": "stdout",
     "output_type": "stream",
     "text": [
      "Toyota\n",
      "Corolla\n",
      "Camry\n"
     ]
    }
   ],
   "source": [
    "# eg\n",
    "class Car:\n",
    "    def __init__(self, make, model):\n",
    "        self._make = make  # protected attribute\n",
    "        self.__model = model  # private attribute\n",
    "\n",
    "    def get_model(self):  # public method to access private attribute\n",
    "        return self.__model\n",
    "\n",
    "    def set_model(self, model):  # public method to modify private attribute\n",
    "        self.__model = model\n",
    "\n",
    "\n",
    "my_car = Car(\"Toyota\", \"Corolla\")\n",
    "print(my_car._make)  # Accessing protected attribute\n",
    "# print(my_car.__model)  # Trying to access private attribute directly gives AttributeError\n",
    "print(my_car.get_model())  # Accessing private attribute through a public method\n",
    "my_car.set_model(\"Camry\")  # Modifying private attribute through a public method\n",
    "print(my_car.get_model())  # Accessing modified private attribute\n"
   ]
  },
  {
   "cell_type": "markdown",
   "id": "b17d34e1-9e40-4b0c-848d-9a25ef5e3b4f",
   "metadata": {},
   "source": [
    "__Q-43  . Can encapsulation be bypassed in Python? If so, how?__\n",
    "\n",
    "Ans-Accessing Private Variables: In Python, there are no true \"private\" variables, but variables and methods intended to be private often start with a single underscore _. Despite this, they can still be accessed from outside the class.\n",
    "Using Name Mangling: Python changes the name of variables starting with __ to prevent easy access, but you can still access them with their mangled names.\n",
    "Using Reflection: Python allows you to access and modify attributes and methods of objects at runtime, which means you can bypass encapsulation.\n",
    "Subclassing and Overriding: Subclasses can access and override private members of their superclass.\n",
    "Using __dict__: Every Python object has a __dict__ attribute that stores its attributes and methods. You can directly access and modify this dictionary, bypassing encapsulation.\n",
    "\n",
    "__ __"
   ]
  },
  {
   "cell_type": "markdown",
   "id": "5a63c2ff-ba82-4d6a-ae7f-ea82d69dad84",
   "metadata": {},
   "source": [
    "__Q-44 Implement a class BankAccount with a private balance attribute. Include methods to deposit, withdraw,\n",
    "and check the balance.__"
   ]
  },
  {
   "cell_type": "code",
   "execution_count": 37,
   "id": "8ccc8bf7-6508-476f-8d13-be7e9759fd29",
   "metadata": {},
   "outputs": [
    {
     "name": "stdout",
     "output_type": "stream",
     "text": [
      "Current balance :  1000\n",
      "deposit 200 new balance 1200\n",
      "withdrawl amount :600  new balance :600\n"
     ]
    }
   ],
   "source": [
    "# Ans-\n",
    "\n",
    "class Bank:\n",
    "    def __init__(self,initialAmount=0):\n",
    "        self.__balance=initialAmount\n",
    "\n",
    "    def deposit(self,amount):\n",
    "        if amount>0:\n",
    "            self.__balance +=amount\n",
    "            print(f\"deposit {amount} new balance {self.__balance}\")\n",
    "        else:\n",
    "            print(\"its not valid amount \")\n",
    "\n",
    "    def withdrawl(self,amount):\n",
    "        if  0< amount<=self.__balance:\n",
    "            self.__balance-=amount\n",
    "            print(f\"withdrawl amount :{amount}  new balance :{self.__balance}\")\n",
    "        else:\n",
    "            print(\"not enough money to withdrawl\")\n",
    "            \n",
    "    def get_bal(self):\n",
    "        print(\"Current balance : \",self.__balance)\n",
    "\n",
    "user=Bank(1000)\n",
    "user.get_bal()\n",
    "user.deposit(200)\n",
    "user.withdrawl(600)\n"
   ]
  },
  {
   "cell_type": "markdown",
   "id": "7048b356-25af-4759-b4f0-a87d9b38e2cd",
   "metadata": {},
   "source": [
    "__ __ \n",
    "\n",
    "__Q-45 Develop a Person class with private attributes name and email, and methods to set and get the email.__"
   ]
  },
  {
   "cell_type": "code",
   "execution_count": 58,
   "id": "6b00d8fe-b5cb-4722-b1d7-b2c7fde03353",
   "metadata": {},
   "outputs": [
    {
     "name": "stdout",
     "output_type": "stream",
     "text": [
      "suryanshss@gmail.com\n"
     ]
    }
   ],
   "source": [
    "# Ans- \n",
    "\n",
    "class Person:\n",
    "    def __init__(self,gmail,name):\n",
    "        self.__name=name\n",
    "        self.__gmail=gmail\n",
    "\n",
    "    def setEmail(self, new_email):\n",
    "        self.__gmail=new_email\n",
    "\n",
    "    def getEmail(self):\n",
    "        return self.__gmail\n",
    "\n",
    "p=Person(\"SuryanshChoura123@gmail.com\",\"Suryansh\")\n",
    "\n",
    "p.setEmail(\"suryanshss@gmail.com\")\n",
    "print(p.getEmail())"
   ]
  },
  {
   "cell_type": "markdown",
   "id": "ba85144a-8ff2-4ed8-ac23-c146993b01fc",
   "metadata": {},
   "source": [
    "__Q-46  Why is encapsulation considered a pillar of object-oriented programming (OOP)?__\n",
    "\n",
    "\n",
    "_Ans- Encapsulation is considered a pillar of object-oriented programming (OOP) because it promotes data hiding, abstraction, and modularity, which helps create more secure, reusable, and maintainable code._ \n"
   ]
  },
  {
   "cell_type": "markdown",
   "id": "3aa6d32f-8e49-482e-a0b6-0116e8dc9a1c",
   "metadata": {},
   "source": [
    "__ __\n",
    "__Q-47-   . Create a decorator in Python that adds functionality to a simple function by printing a message before\n",
    "and after the function execution.__"
   ]
  },
  {
   "cell_type": "code",
   "execution_count": 67,
   "id": "7082e6f5-54d5-448e-916b-ccf39b0b101e",
   "metadata": {},
   "outputs": [
    {
     "name": "stdout",
     "output_type": "stream",
     "text": [
      "before msg print\n",
      "Hello ----- its me \n",
      "After the msg print \n"
     ]
    }
   ],
   "source": [
    "# Ans-\n",
    "def print_msg(func):\n",
    "    def wrapper(*args , **kwargs):\n",
    "        print(\"before msg print\")\n",
    "        result=func(*args,*kwargs)\n",
    "        print(\"After the msg print \")\n",
    "        return result\n",
    "    return wrapper\n",
    "\n",
    "@print_msg\n",
    "def greet():\n",
    "    print(\"Hello ----- its me \")\n",
    "\n",
    "greet()"
   ]
  },
  {
   "cell_type": "markdown",
   "id": "60797f99-4475-4f4a-a3d0-fd90db19eb05",
   "metadata": {},
   "source": [
    "__ __\n",
    "__Q-48  Modify the decorator to accept arguments and print the function name along with the message.__\n"
   ]
  },
  {
   "cell_type": "code",
   "execution_count": 71,
   "id": "fa95169c-986b-4ca9-a1fa-499d02361e4d",
   "metadata": {},
   "outputs": [
    {
     "name": "stdout",
     "output_type": "stream",
     "text": [
      "Funcion name :greet --says: Hello world--\n"
     ]
    }
   ],
   "source": [
    "# Ans-\n",
    "def func_name(message):\n",
    "    def decorator(func):\n",
    "        def wrapper(*args,**kwargs):\n",
    "            print(f\"Funcion name :{func.__name__} --says: {message}\")\n",
    "            return func(*args,**kwargs)\n",
    "        return wrapper\n",
    "    return decorator\n",
    "\n",
    "@func_name(\"Hello world--\")\n",
    "def greet():\n",
    "    \"hello\"\n",
    "\n",
    "greet()\n",
    "        "
   ]
  },
  {
   "cell_type": "markdown",
   "id": "c87a0c5e-d560-41a6-83df-b3fcb8f8279a",
   "metadata": {},
   "source": [
    "__ __\n",
    "__Q-48  Create a decorator that preserves the metadata of the original function.__"
   ]
  },
  {
   "cell_type": "code",
   "execution_count": 86,
   "id": "169e9138-e1f5-4da2-9ceb-8f6dc57da048",
   "metadata": {},
   "outputs": [
    {
     "name": "stdout",
     "output_type": "stream",
     "text": [
      "greet\n",
      "This program print the greet\n",
      "the func  name is : greet called\n",
      "hello\n"
     ]
    }
   ],
   "source": [
    "# Ans-\n",
    "from functools import wraps\n",
    "def deco(func):\n",
    "    @wraps(func)\n",
    "    def wrapper(*args,**kwargs):\n",
    "        print(f\"the func  name is : {func.__name__} called\")\n",
    "        return func(*args,**kwargs)\n",
    "    return wrapper\n",
    "        \n",
    "@deco  \n",
    "def greet():\n",
    "\n",
    "    \"\"\"This program print the greet\"\"\"\n",
    "    print(\"hello\")\n",
    "print(greet.__name__)\n",
    "print(greet.__doc__)\n",
    "greet()\n",
    "    "
   ]
  },
  {
   "cell_type": "markdown",
   "id": "04311d05-f9eb-4fae-a11d-7de3691734fa",
   "metadata": {},
   "source": [
    "____  ____\n",
    "__Q-49 Create two decorators, and apply them to a single function. Ensure that they execute in the order they are applied.__"
   ]
  },
  {
   "cell_type": "code",
   "execution_count": 88,
   "id": "f6950c9c-1f6f-4ca3-83f0-1e17ee199f27",
   "metadata": {},
   "outputs": [
    {
     "name": "stdout",
     "output_type": "stream",
     "text": [
      "First decorator executed\n",
      "Second decorator executed\n",
      "Original function executed\n"
     ]
    }
   ],
   "source": [
    "# Ans\n",
    "def first_decorator(func):\n",
    "    def wrapper(*args, **kwargs):\n",
    "        print(\"First decorator executed\")\n",
    "        return func(*args, **kwargs)\n",
    "    return wrapper\n",
    "\n",
    "def second_decorator(func):\n",
    "    def wrapper(*args, **kwargs):\n",
    "        print(\"Second decorator executed\")\n",
    "        return func(*args, **kwargs)\n",
    "    return wrapper\n",
    "\n",
    "@first_decorator\n",
    "@second_decorator\n",
    "def my_function():\n",
    "    print(\"Original function executed\")\n",
    "\n",
    "my_function()\n"
   ]
  },
  {
   "cell_type": "markdown",
   "id": "95c15cc1-6108-4d2d-b0a5-f01aa630a9cb",
   "metadata": {},
   "source": [
    "__ __\n",
    "__Q-50   Create a Python class -Calculators with a static method 'adds that takes in two numbers and returns their sum.__"
   ]
  },
  {
   "cell_type": "code",
   "execution_count": 93,
   "id": "b6f00db1-5260-4c31-9f84-78f1798a6a6e",
   "metadata": {},
   "outputs": [
    {
     "name": "stdout",
     "output_type": "stream",
     "text": [
      "9\n"
     ]
    }
   ],
   "source": [
    "# Ans\n",
    "class calc:\n",
    "    @staticmethod\n",
    "    def add(num1,num2):\n",
    "        return num1+num2\n",
    "\n",
    "result=calc.add(4,5)\n",
    "print(result)"
   ]
  },
  {
   "cell_type": "markdown",
   "id": "c972b318-f824-474b-9563-d36aa8ae4762",
   "metadata": {},
   "source": [
    "__ __\n",
    "__Q-51 Create a Python class S Employees with a class •method get _ employee_count€ that returns the total\n",
    "number of employees created.__"
   ]
  },
  {
   "cell_type": "code",
   "execution_count": 94,
   "id": "8e56eb31-dba5-4c0a-8560-37dbaf30abac",
   "metadata": {},
   "outputs": [
    {
     "name": "stdout",
     "output_type": "stream",
     "text": [
      "Total employees: 3\n"
     ]
    }
   ],
   "source": [
    "class Employees:\n",
    "    employee_count = 0\n",
    "    \n",
    "    def __init__(self, name):\n",
    "        self.name = name\n",
    "        Employees.employee_count += 1\n",
    "        \n",
    "    @classmethod\n",
    "    def get_employee_count(cls):\n",
    "        return cls.employee_count\n",
    "\n",
    "# Example usage:\n",
    "emp1 = Employees(\"John\")\n",
    "emp2 = Employees(\"Alice\")\n",
    "emp3 = Employees(\"Bob\")\n",
    "\n",
    "print(\"Total employees:\", Employees.get_employee_count())  # Output: Total employees: 3\n"
   ]
  },
  {
   "cell_type": "markdown",
   "id": "1ae8280e-4557-4420-9991-3e5c27de396c",
   "metadata": {},
   "source": [
    "__ __\n",
    "__Q-52  Create a Python class 'StringFormatter' with a static method •reverse _ string' that takes a string as input\n",
    "and returns its reverse.__"
   ]
  },
  {
   "cell_type": "code",
   "execution_count": 97,
   "id": "4be78877-1734-4ecb-83c3-7140a8c7697d",
   "metadata": {},
   "outputs": [
    {
     "data": {
      "text/plain": [
       "'hsnayruS'"
      ]
     },
     "execution_count": 97,
     "metadata": {},
     "output_type": "execute_result"
    }
   ],
   "source": [
    "# Ans\n",
    "class StringFormatter:\n",
    "    @staticmethod\n",
    "    def rev(inputString):\n",
    "        return inputString[::-1]\n",
    "StringFormatter.rev(\"Suryansh\")"
   ]
  },
  {
   "cell_type": "markdown",
   "id": "eff79a69-9e4d-45f5-aa4f-3a300c91a704",
   "metadata": {},
   "source": [
    "__ __\n",
    "__Q-53 Create a Python class 'Circles with a class method 'calculate area' that calculates the area of a circle\n",
    "given its radius.__ "
   ]
  },
  {
   "cell_type": "code",
   "execution_count": 103,
   "id": "3c136393-b3c7-482c-b9b5-57e0ab9230bc",
   "metadata": {},
   "outputs": [
    {
     "name": "stdout",
     "output_type": "stream",
     "text": [
      "Area of circle with radius 5 is: 78.53981633974483\n"
     ]
    }
   ],
   "source": [
    "# Ans-\n",
    "\n",
    "import math\n",
    "\n",
    "class Circles:\n",
    "    @classmethod\n",
    "    def calculate_area(cls, radius):\n",
    "        return math.pi * radius ** 2\n",
    "\n",
    "# Example usage:\n",
    "radius = 5\n",
    "area = Circles.calculate_area(radius)\n",
    "print(\"Area of circle with radius\", radius, \"is:\", area)  \n",
    "\n",
    "\n"
   ]
  },
  {
   "cell_type": "markdown",
   "id": "660a7a2e-33b8-4cfc-9576-e23a5e371dc9",
   "metadata": {},
   "source": [
    "__ __\n",
    "__Q-54 Create a Python class with a static method that converts\n",
    "Celsius to Fahrenheit.__"
   ]
  },
  {
   "cell_type": "code",
   "execution_count": 107,
   "id": "0cf733e8-bc3d-415d-ade6-9c4a0a21911b",
   "metadata": {},
   "outputs": [
    {
     "name": "stdout",
     "output_type": "stream",
     "text": [
      "30 degrees Celsius is equal to 86.0 degrees Fahrenheit.\n"
     ]
    }
   ],
   "source": [
    "# Ans\n",
    "class TemperatureConverter:\n",
    "    @staticmethod\n",
    "    def celsius_to_fahrenheit(celsius):\n",
    "        return (celsius * 9/5) + 32\n",
    "\n",
    "\n",
    "celsius_temp = 30\n",
    "fahrenheit_temp = TemperatureConverter.celsius_to_fahrenheit(celsius_temp)\n",
    "print(f\"{celsius_temp} degrees Celsius is equal to {fahrenheit_temp} degrees Fahrenheit.\")\n",
    "\n"
   ]
  },
  {
   "cell_type": "markdown",
   "id": "56eba271-a97f-4a3e-b694-3cec4f50551e",
   "metadata": {},
   "source": [
    "__ __\n",
    "__Q-55 What is the purpose of the _str__() method in Python classes? Provide an example.__\n",
    "\n",
    "\n",
    "Ans-\n",
    "The __str__() method in Python classes is used to define how an object should be represented as a string when using the str() function or when the object is passed to print()."
   ]
  },
  {
   "cell_type": "code",
   "execution_count": 109,
   "id": "a2aa5ff3-0bbd-4483-b286-b9caadc05f5a",
   "metadata": {},
   "outputs": [
    {
     "name": "stdout",
     "output_type": "stream",
     "text": [
      "Person: Alice, Age: 30\n"
     ]
    }
   ],
   "source": [
    "class Person:\n",
    "    def __init__(self, name, age):\n",
    "        self.name = name\n",
    "        self.age = age\n",
    "        \n",
    "    def __str__(self):\n",
    "        return f\"Person: {self.name}, Age: {self.age}\"\n",
    "\n",
    "# Example usage:\n",
    "person1 = Person(\"Alice\", 30)\n",
    "print(person1)  # Output: Person: Alice, Age: 30\n"
   ]
  },
  {
   "cell_type": "markdown",
   "id": "5f7201a4-7c8e-48e5-a1a9-43e6ee5468a8",
   "metadata": {},
   "source": [
    "__ __\n",
    "__Q-56  How does the _len__() method work in Python? Provide an example.__\n",
    "\n",
    "__Ans- The __len__() method in Python is used to define the length of objects. It enables custom classes to support the len() function, which returns the length of objects such as lists, tuples, strings, dictionaries, and user-defined classes that implement __len__().__"
   ]
  },
  {
   "cell_type": "code",
   "execution_count": 111,
   "id": "caeafeb7-73ab-48b8-9c0d-f6bcf28bb4d4",
   "metadata": {},
   "outputs": [
    {
     "name": "stdout",
     "output_type": "stream",
     "text": [
      "Length of my_list: 5\n"
     ]
    }
   ],
   "source": [
    "# Ans-\n",
    "class MyList:\n",
    "    def __init__(self, data):\n",
    "        self.data = data\n",
    "    \n",
    "    def __len__(self):\n",
    "        return len(self.data)\n",
    "\n",
    "# Example usage:\n",
    "my_list = MyList([1, 2, 3, 4, 5])\n",
    "print(\"Length of my_list:\", len(my_list))  # Output: Length of my_list: 5\n"
   ]
  },
  {
   "cell_type": "markdown",
   "id": "8e37bbcf-1b47-4f31-abb3-bc4d1220ab35",
   "metadata": {},
   "source": [
    "__ __\n",
    "__Q-57  Explain the usage of the\n",
    "add__() method in Python classes. Provide an example.__\n",
    "\n",
    "__Ans- The __add__() method is used to define the behavior of the addition operation for objects of a class. It allows instances of a class to use the + operator to perform addition according to the definition provided within the method._-"
   ]
  },
  {
   "cell_type": "code",
   "execution_count": 113,
   "id": "5426024a-79fe-49f1-8137-b4b13cd8f36c",
   "metadata": {},
   "outputs": [
    {
     "name": "stdout",
     "output_type": "stream",
     "text": [
      "Result Point: 4 6\n"
     ]
    }
   ],
   "source": [
    "class Point:\n",
    "    def __init__(self, x, y):\n",
    "        self.x = x\n",
    "        self.y = y\n",
    "    \n",
    "    def __add__(self, other):\n",
    "        new_x = self.x + other.x\n",
    "        new_y = self.y + other.y\n",
    "        return Point(new_x, new_y)\n",
    "\n",
    "# Example usage:\n",
    "point1 = Point(1, 2)\n",
    "point2 = Point(3, 4)\n",
    "result_point = point1 + point2\n",
    "print(\"Result Point:\", result_point.x, result_point.y)  # Output: Result Point: 4 6\n"
   ]
  },
  {
   "cell_type": "markdown",
   "id": "1e5e4b40-890b-43da-9e75-13119f70d765",
   "metadata": {},
   "source": [
    "__ __\n",
    "\n",
    "\n",
    "__Q-58  What is the purpose of the\n",
    "_getitem__() method in Python? Provide an example.__\n",
    "\n",
    "Ans-n Python, the __getitem__() method is used to enable the indexing and slicing operations for objects of a class. It allows instances of a class to behave like sequences (such as lists, tuples, strings) or mappings (such as dictionaries), providing access to elements by index or slice."
   ]
  },
  {
   "cell_type": "markdown",
   "id": "8cf2ff46-ee57-4647-8b10-b20a9b645817",
   "metadata": {},
   "source": [
    "# Ans\n",
    "class MyList:\n",
    "    def __init__(self, data):\n",
    "        self.data = data\n",
    "    \n",
    "    def __getitem__(self, index):\n",
    "        return self.data[index]\n",
    "\n",
    "# Example usage:\n",
    "my_list = MyList([1, 2, 3, 4, 5])\n",
    "print(\"Element at index 2:\", my_list[2])  # Output: Element at index 2: 3\n",
    "print(\"Sliced elements from index 1 to 3:\", my_list[1:4])  # Output: Sliced elements from index 1 to 3: [2, 3, 4]\n"
   ]
  },
  {
   "cell_type": "markdown",
   "id": "6b9c663f-8084-4f26-a664-2a20dfaf796a",
   "metadata": {},
   "source": [
    "__ __\n",
    "__Q- 59 Explain the usage of the\n",
    "iterators.\n",
    "_iter__() and\n",
    "_ next__() methods in Python. Provide an example using__\n",
    "\n",
    "Ans-Iterators in Python provide a way to iterate over elements of a collection or sequence one at a time. They are used to implement custom iteration behavior for objects of a class. Iterators are utilized extensively in for loops, allowing objects to be iterated over using the for loop syntax.\n",
    "\n",
    "To create an iterator, a class needs to implement two methods: __iter__() and __next__().\n",
    "\n",
    "__iter__() method: This method returns the iterator object itself. It is called when the iterator is created and initialized.\n",
    "__next__() method: This method returns the next item in the iteration. It is called repeatedly during iteration to fetch the next item. When there are no more items to return, it should raise a StopIteration exception."
   ]
  },
  {
   "cell_type": "code",
   "execution_count": 116,
   "id": "5892dacf-8428-41b8-8251-30ee33e4edfa",
   "metadata": {},
   "outputs": [
    {
     "name": "stdout",
     "output_type": "stream",
     "text": [
      "1\n",
      "2\n",
      "3\n",
      "4\n",
      "5\n"
     ]
    }
   ],
   "source": [
    "# Eg\n",
    "class MyIterator:\n",
    "    def __init__(self, data):\n",
    "        self.data = data\n",
    "        self.index = 0\n",
    "        \n",
    "    def __iter__(self):\n",
    "        return self\n",
    "    \n",
    "    def __next__(self):\n",
    "        if self.index >= len(self.data):\n",
    "            raise StopIteration\n",
    "        current_item = self.data[self.index]\n",
    "        self.index += 1\n",
    "        return current_item\n",
    "\n",
    "# Example usage:\n",
    "my_iterator = MyIterator([1, 2, 3, 4, 5])\n",
    "for item in my_iterator:\n",
    "    print(item)\n"
   ]
  },
  {
   "cell_type": "markdown",
   "id": "8ed42f1d-8379-488d-b93c-be57acf869e0",
   "metadata": {},
   "source": [
    "__  __ \n",
    "\n",
    "__Q-60 What is the purpose of a getter method in Python? Provide an example demonstrating the use of a getter\n",
    "method using property decorators.__\n",
    "\n",
    "_Ans- In Python, a getter method is used to encapsulate the retrieval of an object's attribute value. It allows controlled access to object attributes, providing a way to enforce data encapsulation and validation. Getter methods are commonly used when you want to perform some logic or validation before returning the value of an attribute.\n",
    "\n",
    "One common way to implement getter methods in Python is by using property decorators. Property decorators allow us to define getter, setter, and deleter methods for an attribute, making it look like a regular attribute but with custom behavior._"
   ]
  },
  {
   "cell_type": "code",
   "execution_count": 117,
   "id": "d1e3830b-f2de-461a-b4d7-69788b2ac79e",
   "metadata": {},
   "outputs": [
    {
     "name": "stdout",
     "output_type": "stream",
     "text": [
      "Width: 5\n",
      "Height: 3\n",
      "Area: 15\n"
     ]
    }
   ],
   "source": [
    "# Eg\n",
    "class Rectangle:\n",
    "    def __init__(self, width, height):\n",
    "        self._width = width\n",
    "        self._height = height\n",
    "    \n",
    "    @property\n",
    "    def width(self):\n",
    "        return self._width\n",
    "    \n",
    "    @property\n",
    "    def height(self):\n",
    "        return self._height\n",
    "    \n",
    "    @property\n",
    "    def area(self):\n",
    "        return self._width * self._height\n",
    "\n",
    "# Example usage:\n",
    "rectangle = Rectangle(5, 3)\n",
    "print(\"Width:\", rectangle.width)  # Output: Width: 5\n",
    "print(\"Height:\", rectangle.height)  # Output: Height: 3\n",
    "print(\"Area:\", rectangle.area)  # Output: Area: 15\n",
    "\n",
    "# Trying to modify width or height directly will raise an AttributeError\n",
    "# rectangle.width = 10  # AttributeError: can't set attribute\n"
   ]
  },
  {
   "cell_type": "markdown",
   "id": "5aab42e8-8a4a-470c-abe3-43a92dbeb57a",
   "metadata": {},
   "source": [
    "__  __\n",
    "__Q-61  What is the purpose of the @property decorator in Python? Provide an example illustrating its usage.__\n",
    "\n",
    "Ans-The @property decorator in Python is used to define properties for accessing and modifying attributes of a class. It allows you to define getter, setter, and deleter methods for an attribute, providing controlled access to class attributes with custom behavior."
   ]
  },
  {
   "cell_type": "code",
   "execution_count": 118,
   "id": "4f31810f-3e64-48fc-8a6a-16d2e6b59213",
   "metadata": {},
   "outputs": [
    {
     "name": "stdout",
     "output_type": "stream",
     "text": [
      "Radius: 5\n",
      "Area: 78.5\n",
      "Updated Radius: 7\n",
      "Updated Area: 153.86\n"
     ]
    }
   ],
   "source": [
    "# Eg\n",
    "class Circle:\n",
    "    def __init__(self, radius):\n",
    "        self._radius = radius\n",
    "    \n",
    "    @property\n",
    "    def radius(self):\n",
    "        return self._radius\n",
    "    \n",
    "    @radius.setter\n",
    "    def radius(self, value):\n",
    "        if value <= 0:\n",
    "            raise ValueError(\"Radius must be positive\")\n",
    "        self._radius = value\n",
    "    \n",
    "    @property\n",
    "    def area(self):\n",
    "        return 3.14 * self._radius ** 2\n",
    "\n",
    "# Example usage:\n",
    "circle = Circle(5)\n",
    "print(\"Radius:\", circle.radius)  # Output: Radius: 5\n",
    "print(\"Area:\", circle.area)  # Output: Area: 78.5\n",
    "\n",
    "circle.radius = 7\n",
    "print(\"Updated Radius:\", circle.radius)  # Output: Updated Radius: 7\n",
    "print(\"Updated Area:\", circle.area)  # Output: Updated Area: 153.86\n",
    "\n",
    "# Trying to set a negative radius will raise a ValueError\n",
    "# circle.radius = -3  # ValueError: Radius must be positive\n"
   ]
  },
  {
   "cell_type": "markdown",
   "id": "086990cf-2243-4b5e-98e0-f46a8980f686",
   "metadata": {},
   "source": [
    "__ __\n",
    "\n",
    "__Q-62 Explain the use of the @deleter decorator in Python property decorators. Provide a code example\n",
    "demonstrating its application.__\n",
    "\n",
    "Ans-\n",
    "The @deleter decorator in Python property decorators is used to define a deleter method for a property. It allows you to define custom behavior for deleting an attribute from an object."
   ]
  },
  {
   "cell_type": "code",
   "execution_count": 119,
   "id": "bd687434-8caf-44c3-b4bb-55a9c346eb08",
   "metadata": {},
   "outputs": [
    {
     "name": "stdout",
     "output_type": "stream",
     "text": [
      "Current name: Alice\n",
      "Deleting name: Alice\n"
     ]
    }
   ],
   "source": [
    "# eg\n",
    "class Person:\n",
    "    def __init__(self, name):\n",
    "        self._name = name\n",
    "    \n",
    "    @property\n",
    "    def name(self):\n",
    "        return self._name\n",
    "    \n",
    "    @name.setter\n",
    "    def name(self, value):\n",
    "        self._name = value\n",
    "    \n",
    "    @name.deleter\n",
    "    def name(self):\n",
    "        print(f\"Deleting name: {self._name}\")\n",
    "        del self._name\n",
    "\n",
    "# Example usage:\n",
    "person = Person(\"Alice\")\n",
    "print(\"Current name:\", person.name)  # Output: Current name: Alice\n",
    "\n",
    "del person.name  # Output: Deleting name: Alice\n",
    "\n",
    "# Trying to access the name after deletion will raise an AttributeError\n",
    "# print(\"Name after deletion:\", person.name)  # AttributeError: 'Person' object has no attribute '_name'\n"
   ]
  },
  {
   "cell_type": "markdown",
   "id": "35fd505d-17e6-48d1-80f5-47e70d0b8bc0",
   "metadata": {},
   "source": [
    "__ __\n",
    "__Q-63  How does encapsulation relate to property decorators in Python? Provide an example showcasing\n",
    "encapsulation using property decorators.__\n",
    "\n",
    "Ans-Encapsulation is the concept of bundling the data (attributes) and methods (functions) that operate on the data into a single unit, typically called a class. It allows the implementation details of a class to be hidden from the outside world, providing controlled access to the internal state of an object."
   ]
  },
  {
   "cell_type": "code",
   "execution_count": 121,
   "id": "41dd5382-6c26-4c94-83d4-e885b36ae2d7",
   "metadata": {},
   "outputs": [
    {
     "name": "stdout",
     "output_type": "stream",
     "text": [
      "Initial balance: 1000\n",
      "Updated balance: 1500\n",
      "Direct access to _balance: 1500\n"
     ]
    }
   ],
   "source": [
    "# eg-\n",
    "class BankAccount:\n",
    "    def __init__(self, balance):\n",
    "        self._balance = balance\n",
    "    \n",
    "    @property\n",
    "    def balance(self):\n",
    "        return self._balance\n",
    "    \n",
    "    @balance.setter\n",
    "    def balance(self, value):\n",
    "        if value < 0:\n",
    "            raise ValueError(\"Balance cannot be negative\")\n",
    "        self._balance = value\n",
    "\n",
    "# Example usage:\n",
    "account = BankAccount(1000)\n",
    "print(\"Initial balance:\", account.balance)  # Output: Initial balance: 1000\n",
    "\n",
    "# Trying to set a negative balance will raise a ValueError\n",
    "# account.balance = -500  # ValueError: Balance cannot be negative\n",
    "\n",
    "account.balance = 1500\n",
    "print(\"Updated balance:\", account.balance)  # Output: Updated balance: 1500\n",
    "\n",
    "# Trying to directly access _balance will still allow access, but it's discouraged\n",
    "print(\"Direct access to _balance:\", account._balance)  # Output: Direct access to _balance: 1500\n"
   ]
  },
  {
   "cell_type": "markdown",
   "id": "772dd45b-be97-4e15-b37a-7821d9385bd6",
   "metadata": {},
   "source": [
    "__ __"
   ]
  }
 ],
 "metadata": {
  "kernelspec": {
   "display_name": "Python 3 (ipykernel)",
   "language": "python",
   "name": "python3"
  },
  "language_info": {
   "codemirror_mode": {
    "name": "ipython",
    "version": 3
   },
   "file_extension": ".py",
   "mimetype": "text/x-python",
   "name": "python",
   "nbconvert_exporter": "python",
   "pygments_lexer": "ipython3",
   "version": "3.12.2"
  }
 },
 "nbformat": 4,
 "nbformat_minor": 5
}
